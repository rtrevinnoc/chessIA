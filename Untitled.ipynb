{
 "cells": [
  {
   "cell_type": "code",
   "execution_count": 5,
   "id": "a7b8564f-03ea-4570-a815-a55052ff7615",
   "metadata": {
    "tags": []
   },
   "outputs": [
    {
     "name": "stdin",
     "output_type": "stream",
     "text": [
      "Color para IA?  B\n"
     ]
    },
    {
     "name": "stdout",
     "output_type": "stream",
     "text": [
      "IA es color Blanco\n",
      "\n",
      "Calculando un movimiento.\n",
      "IA realiza el movimiento g1h3\n",
      "\n"
     ]
    },
    {
     "ename": "KeyboardInterrupt",
     "evalue": "Interrupted by user",
     "output_type": "error",
     "traceback": [
      "\u001b[0;31m---------------------------------------------------------------------------\u001b[0m",
      "\u001b[0;31mKeyboardInterrupt\u001b[0m                         Traceback (most recent call last)",
      "Cell \u001b[0;32mIn[5], line 72\u001b[0m\n\u001b[1;32m     70\u001b[0m \u001b[38;5;28;01mwhile\u001b[39;00m \u001b[38;5;129;01mnot\u001b[39;00m board\u001b[38;5;241m.\u001b[39mis_game_over():\n\u001b[1;32m     71\u001b[0m     \u001b[38;5;28;01mif\u001b[39;00m board\u001b[38;5;241m.\u001b[39mturn \u001b[38;5;241m==\u001b[39m enemy:\n\u001b[0;32m---> 72\u001b[0m         move \u001b[38;5;241m=\u001b[39m \u001b[38;5;28;43minput\u001b[39;49m\u001b[43m(\u001b[49m\u001b[38;5;124;43m\"\u001b[39;49m\u001b[38;5;130;43;01m\\n\u001b[39;49;00m\u001b[38;5;124;43mIntroduce un movimiento (notacion algebraica): \u001b[39;49m\u001b[38;5;124;43m\"\u001b[39;49m\u001b[43m)\u001b[49m\n\u001b[1;32m     73\u001b[0m         \u001b[38;5;66;03m# try:\u001b[39;00m\n\u001b[1;32m     74\u001b[0m         board\u001b[38;5;241m.\u001b[39mpush_san(move)\n",
      "File \u001b[0;32m~/.local/lib/python3.10/site-packages/ipykernel/kernelbase.py:1191\u001b[0m, in \u001b[0;36mKernel.raw_input\u001b[0;34m(self, prompt)\u001b[0m\n\u001b[1;32m   1189\u001b[0m     msg \u001b[38;5;241m=\u001b[39m \u001b[38;5;124m\"\u001b[39m\u001b[38;5;124mraw_input was called, but this frontend does not support input requests.\u001b[39m\u001b[38;5;124m\"\u001b[39m\n\u001b[1;32m   1190\u001b[0m     \u001b[38;5;28;01mraise\u001b[39;00m StdinNotImplementedError(msg)\n\u001b[0;32m-> 1191\u001b[0m \u001b[38;5;28;01mreturn\u001b[39;00m \u001b[38;5;28;43mself\u001b[39;49m\u001b[38;5;241;43m.\u001b[39;49m\u001b[43m_input_request\u001b[49m\u001b[43m(\u001b[49m\n\u001b[1;32m   1192\u001b[0m \u001b[43m    \u001b[49m\u001b[38;5;28;43mstr\u001b[39;49m\u001b[43m(\u001b[49m\u001b[43mprompt\u001b[49m\u001b[43m)\u001b[49m\u001b[43m,\u001b[49m\n\u001b[1;32m   1193\u001b[0m \u001b[43m    \u001b[49m\u001b[38;5;28;43mself\u001b[39;49m\u001b[38;5;241;43m.\u001b[39;49m\u001b[43m_parent_ident\u001b[49m\u001b[43m[\u001b[49m\u001b[38;5;124;43m\"\u001b[39;49m\u001b[38;5;124;43mshell\u001b[39;49m\u001b[38;5;124;43m\"\u001b[39;49m\u001b[43m]\u001b[49m\u001b[43m,\u001b[49m\n\u001b[1;32m   1194\u001b[0m \u001b[43m    \u001b[49m\u001b[38;5;28;43mself\u001b[39;49m\u001b[38;5;241;43m.\u001b[39;49m\u001b[43mget_parent\u001b[49m\u001b[43m(\u001b[49m\u001b[38;5;124;43m\"\u001b[39;49m\u001b[38;5;124;43mshell\u001b[39;49m\u001b[38;5;124;43m\"\u001b[39;49m\u001b[43m)\u001b[49m\u001b[43m,\u001b[49m\n\u001b[1;32m   1195\u001b[0m \u001b[43m    \u001b[49m\u001b[43mpassword\u001b[49m\u001b[38;5;241;43m=\u001b[39;49m\u001b[38;5;28;43;01mFalse\u001b[39;49;00m\u001b[43m,\u001b[49m\n\u001b[1;32m   1196\u001b[0m \u001b[43m\u001b[49m\u001b[43m)\u001b[49m\n",
      "File \u001b[0;32m~/.local/lib/python3.10/site-packages/ipykernel/kernelbase.py:1234\u001b[0m, in \u001b[0;36mKernel._input_request\u001b[0;34m(self, prompt, ident, parent, password)\u001b[0m\n\u001b[1;32m   1231\u001b[0m \u001b[38;5;28;01mexcept\u001b[39;00m \u001b[38;5;167;01mKeyboardInterrupt\u001b[39;00m:\n\u001b[1;32m   1232\u001b[0m     \u001b[38;5;66;03m# re-raise KeyboardInterrupt, to truncate traceback\u001b[39;00m\n\u001b[1;32m   1233\u001b[0m     msg \u001b[38;5;241m=\u001b[39m \u001b[38;5;124m\"\u001b[39m\u001b[38;5;124mInterrupted by user\u001b[39m\u001b[38;5;124m\"\u001b[39m\n\u001b[0;32m-> 1234\u001b[0m     \u001b[38;5;28;01mraise\u001b[39;00m \u001b[38;5;167;01mKeyboardInterrupt\u001b[39;00m(msg) \u001b[38;5;28;01mfrom\u001b[39;00m \u001b[38;5;28mNone\u001b[39m\n\u001b[1;32m   1235\u001b[0m \u001b[38;5;28;01mexcept\u001b[39;00m \u001b[38;5;167;01mException\u001b[39;00m:\n\u001b[1;32m   1236\u001b[0m     \u001b[38;5;28mself\u001b[39m\u001b[38;5;241m.\u001b[39mlog\u001b[38;5;241m.\u001b[39mwarning(\u001b[38;5;124m\"\u001b[39m\u001b[38;5;124mInvalid Message:\u001b[39m\u001b[38;5;124m\"\u001b[39m, exc_info\u001b[38;5;241m=\u001b[39m\u001b[38;5;28;01mTrue\u001b[39;00m)\n",
      "\u001b[0;31mKeyboardInterrupt\u001b[0m: Interrupted by user"
     ]
    }
   ],
   "source": [
    "import chess\n",
    "import chess.svg\n",
    "import random\n",
    "\n",
    "# Define the maximum search depth\n",
    "MAX_DEPTH = 3\n",
    "\n",
    "# Evaluation function to determine the value of the board state\n",
    "def evaluate_board(board):\n",
    "    piece_values = {\"P\": 1, \"N\": 3, \"B\": 3, \"R\": 5, \"Q\": 9, \"K\": 0}\n",
    "    score = 0\n",
    "    for square in chess.SQUARES:\n",
    "        piece = board.piece_at(square)\n",
    "        if piece is not None:\n",
    "            if piece.color == chess.WHITE:\n",
    "                score += piece_values[piece.symbol().upper()]\n",
    "            else:\n",
    "                score -= piece_values[piece.symbol().upper()]\n",
    "    return score\n",
    "\n",
    "# Minimax function to search for the best move\n",
    "def minimax(board, depth, alpha, beta, maximizing_player):\n",
    "    if depth == 0 or board.is_game_over():\n",
    "        return evaluate_board(board)\n",
    "    if maximizing_player:\n",
    "        max_eval = float(\"-inf\")\n",
    "        for move in board.legal_moves:\n",
    "            board.push(move)\n",
    "            eval = minimax(board, depth-1, alpha, beta, False)\n",
    "            board.pop()\n",
    "            max_eval = max(max_eval, eval)\n",
    "            alpha = max(alpha, eval)\n",
    "            if beta <= alpha:\n",
    "                break\n",
    "        return max_eval\n",
    "    else:\n",
    "        min_eval = float(\"inf\")\n",
    "        for move in board.legal_moves:\n",
    "            board.push(move)\n",
    "            eval = minimax(board, depth-1, alpha, beta, True)\n",
    "            board.pop()\n",
    "            min_eval = min(min_eval, eval)\n",
    "            beta = min(beta, eval)\n",
    "            if beta <= alpha:\n",
    "                break\n",
    "        return min_eval\n",
    "\n",
    "# Function to make the AI move\n",
    "def make_move(board):\n",
    "    best_move = None\n",
    "    best_eval = float(\"-inf\")\n",
    "    for move in board.legal_moves:\n",
    "        board.push(move)\n",
    "        eval = minimax(board, MAX_DEPTH, float(\"-inf\"), float(\"inf\"), False)\n",
    "        board.pop()\n",
    "        if eval > best_eval:\n",
    "            best_eval = eval\n",
    "            best_move = move\n",
    "    return best_move\n",
    "\n",
    "if input(\"Color para IA? \") == \"B\":\n",
    "    print(\"IA es color Blanco\")\n",
    "    enemy = chess.BLACK\n",
    "else:\n",
    "    print(\"IA es color Negro\")\n",
    "    enemy = chess.WHITE\n",
    "\n",
    "# Play the game\n",
    "board = chess.Board()\n",
    "while not board.is_game_over():\n",
    "    if board.turn == enemy:\n",
    "        move = input(\"\\nIntroduce un movimiento (notacion algebraica): \")\n",
    "        # try:\n",
    "        board.push_san(move)\n",
    "        # except ValueError:\n",
    "        #     print(\"\\n# ERROR: Movimiento Invalido.\\n\\n\")\n",
    "    else:\n",
    "        print(\"\\nCalculando un movimiento.\")\n",
    "        move = make_move(board)\n",
    "        board.push(move)\n",
    "        print(f\"IA realiza el movimiento {move}\\n\")\n",
    "    board\n",
    "print(\"Resultado: \", board.result())\n"
   ]
  },
  {
   "cell_type": "code",
   "execution_count": null,
   "id": "6c062195-37db-41bf-bb2a-2944875b0e6f",
   "metadata": {},
   "outputs": [],
   "source": []
  }
 ],
 "metadata": {
  "kernelspec": {
   "display_name": "Python 3 (ipykernel)",
   "language": "python",
   "name": "python3"
  },
  "language_info": {
   "codemirror_mode": {
    "name": "ipython",
    "version": 3
   },
   "file_extension": ".py",
   "mimetype": "text/x-python",
   "name": "python",
   "nbconvert_exporter": "python",
   "pygments_lexer": "ipython3",
   "version": "3.10.10"
  }
 },
 "nbformat": 4,
 "nbformat_minor": 5
}
